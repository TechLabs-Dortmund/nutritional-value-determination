{
 "cells": [
  {
   "cell_type": "markdown",
   "id": "c84d41bc-af01-4643-8809-db0de703e9dd",
   "metadata": {},
   "source": [
    "# webgrabber für Listen von Wikipedia\n"
   ]
  },
  {
   "cell_type": "code",
   "execution_count": 32,
   "id": "04bb486b-19fc-4778-8d92-d89a925c692a",
   "metadata": {},
   "outputs": [],
   "source": [
    "# Gebäckliste\n",
    "import requests\n",
    "from bs4 import BeautifulSoup\n",
    "\n",
    "# man muss der liste einen letzten eintrag geben, weil sonst weitere listen unter der eigentlichen ausgelesen werden.\n",
    "def grab_list(url, last_item): # wenn wikipedia eine Tabelle anzeigt\n",
    "    grabbed_list = []\n",
    "    r = requests.get(url)\n",
    "    text = r.text\n",
    "    soup = BeautifulSoup(text, 'lxml')\n",
    "    soup.prettify()\n",
    "    matches = soup.find_all('tr')\n",
    "    \n",
    "    for index, row in enumerate(matches):\n",
    "        try:\n",
    "            obj = row.find('td').a.get('title')\n",
    "            if obj.endswith(' (page does not exist)'): obj = obj.replace(' (page does not exist)', '') \n",
    "            grabbed_list.append(obj)\n",
    "            if obj == last_item:\n",
    "                break\n",
    "        except AttributeError:\n",
    "            continue\n",
    "    return grabbed_list\n",
    "\n",
    "def grab_list2(url, last_item): # wenn wikipedia eine bullet-point liste anzeigt\n",
    "    grabbed_list = []\n",
    "    r = requests.get(url)\n",
    "    text = r.text\n",
    "    soup = BeautifulSoup(text, 'lxml')\n",
    "    soup.prettify()\n",
    "    matches = soup.find_all('li')\n",
    "    \n",
    "    for index, row in enumerate(matches):\n",
    "        try:\n",
    "            obj = row.a.get('title')\n",
    "            if obj.endswith(' (page does not exist)'): obj = obj.replace(' (page does not exist)', '') \n",
    "            grabbed_list.append(obj)\n",
    "            if obj == last_item:\n",
    "                break\n",
    "        except AttributeError:\n",
    "            continue\n",
    "    return grabbed_list"
   ]
  },
  {
   "cell_type": "code",
   "execution_count": 10,
   "id": "bad2ec5f-eda4-4548-b24b-806cec75cfef",
   "metadata": {},
   "outputs": [
    {
     "name": "stdout",
     "output_type": "stream",
     "text": [
      "['Alexandertorte', 'Alfajor', 'Aloo pie', 'Apple pie', 'Apple strudel', 'Bahulu', 'Bakewell pudding', 'Baklava', 'Bakpia Pathok', 'Banbury cake', 'Banitsa', 'Banket (food)', 'Bear claw', 'BeaverTails', 'Bedfordshire clanger', 'Belekoy', 'Belokranjska povitica', 'Berliner (doughnut)', 'Bethmännchen', 'Bichon au citron', 'Bierock', 'Birnbrot', 'Bizcocho', 'Börek', 'Bossche bol', 'Bougatsa', 'Boyoz', 'Bridie', 'Briouat', 'Bruttiboni', 'Buko pie', 'Bundevara', 'Canelé', 'Cannoli', 'Carac (pastry)', 'Charlotte (cake)', 'ChaSan', 'Chatti Pathiri', 'Cherry pie', 'Chorley cake', 'Chouquette', 'Choux pastry', 'Cinnamon Roll', 'Coca (pastry)', 'Conejito', 'Cornish pasty', 'Conversation (pastry)', 'Cornulețe', 'Coussin de Lyon', 'Cream horn', 'Crêpes Suzette', 'Crocetta of Caltanissetta', 'Croissant', 'Croline', 'Cronut', 'Croquembouche', 'Cuban pastelito (page does not exist)', 'Curry puff', 'Dabby-Doughs', 'Danish pastry', 'Djevrek', 'Dutch letter', 'Dutch Baby Pancake (page does not exist)', 'Eccles cake', 'Éclair (pastry)', 'Empanada', 'Ensaïmada', 'Fa gao', 'Fazuelos', 'Fig roll', 'Flaky pastry', 'Flaugnarde', 'Flaons', 'Flies graveyard', 'Franzbrötchen', 'Galette', 'Gâteau Basque', 'Shorgoghal', 'Gibanica', 'Gujia', 'Gözleme', 'Gulab jamun', 'Gundain', 'Gustavus Adolphus pastry', 'Gyeongju bread', 'Haddekuche', 'Hamantash', 'Hellimli', 'Heong Peng', 'Hot water crust pastry', 'Huff paste', 'Inipit', 'Jachnun', 'Jalebi', 'Jambon', 'Jesuite', 'Joulutorttu (pastry)', 'Kalács', 'Kanafeh', 'Karakudamono', 'Kifli', 'Klobasnek', 'Knieküchle', 'Knish', 'Kolache', 'Kolompeh', 'Kołacz', 'Komaj sehen', 'Kouign-amann', 'Krempita', 'Kringle', 'Kroštule', 'Kūčiukai', 'Kürtőskalács', \"Ladies' navels\", 'Lattice (pastry)', 'Leipziger Lerche', 'Linzer torte', 'Lotus seed bun', \"Ma'amoul\", 'Macaron', 'Makmur', 'Makroudh', 'Malsouka', 'Mandelkubb', 'Mantecadas', 'Marillenknödel', 'Marry girl cake', 'Masan (pastry)', 'Miguelitos', 'Milhoja', 'Milk-cream strudel', 'Mille-feuille', 'Mooncake', 'Moorkop', 'Muskazine', 'Nazook', \"Nun's puffs\", 'Nunt', 'Öçpoçmaq', 'Ox-tongue pastry', 'Pain au chocolat', 'Pain aux raisins', 'Palmier', 'Pannekoek', 'Pan dulce (sweet bread)', 'Panzarotti', 'Papanași', 'Paper wrapped cake', 'Paris–Brest', 'Paste (pasty)', 'Pastel (food)', 'Pastizz', 'Pastry heart', 'Pâté Chaud', 'Pecan pie', 'Filo', 'Pie', 'Pineapple bun', 'Pineapple cake', 'Pionono', 'Pithivier', 'Pizza', 'Plăcintă', 'Poffertjes', 'Pogača', 'Poppy seed roll', 'Pot pie', 'Prekmurska gibanica', 'Pretzel', 'Profiterole', 'Puff pastry', \"Puits d'amour\", 'Punsch-roll', 'Punschkrapfen', 'Qottab', 'Quesito', 'Rab cake', 'Remonce', 'Rhubarb tart', 'Roti john', 'Roti tissue', 'Roze koek', 'Rugelach', \"Runeberg's torte\", 'Rustico (pastry)', 'Sad cake', 'Samosa', 'Schaumrolle', 'Schnecken', 'Schneeballe', 'Schuxen', 'Semla', 'Sfenj', 'Sfințișori', 'Sfogliatelle', 'Shortcrust pastry', 'Sou (pastry)', 'Spanakopita', 'Streusel', 'Strudel', 'Stutenkerl', 'Sufganiyah', 'Suncake (Taiwan)', 'Sweetheart cake', 'Taiyaki', 'Toaster pastry', 'Torpil', 'Tortell', 'Tortita negra', 'Trdelník', 'Tu (cake)', 'Turnover (food)', 'Utap', 'Vatrushka', 'Vetkoek', 'Viennoiserie', 'Vol-au-vent', 'Welsh cake', 'Xuixo', 'Yurla (dish)', 'Zeeuwse bolus', 'Zlebia']\n"
     ]
    }
   ],
   "source": [
    "url_gebaeck = r'https://en.wikipedia.org/wiki/List_of_pastries'\n",
    "gebaeckliste = grab_list(url_gebaeck, 'Zlebia')\n",
    "print(gebaeckliste)"
   ]
  },
  {
   "cell_type": "code",
   "execution_count": 11,
   "id": "15a635b4-41c7-4f72-9220-d8b930f0d979",
   "metadata": {},
   "outputs": [
    {
     "name": "stdout",
     "output_type": "stream",
     "text": [
      "['Aachener Printen', 'Bavarian cream', 'Berliner (doughnut)', 'Bethmännchen', 'Baumkuchen', 'Bratapfel', 'Bienenstich', 'Black Forest cake', 'Bremer Klaben', 'Brenntar', 'Buchteln', 'Buckwheat gateau', 'Carrot cake', 'Cheesecake', 'Dampfnudel', 'Dominostein', 'Donauwelle', 'Fasnacht (doughnut)', 'Frankfurter Kranz', 'Franzbrötchen', 'Gugelhupf', 'Germknödel', 'Garrapinyades', 'Götterspeise', 'Herrencreme', 'Kuchen', 'Lebkuchen', 'de:Linzer Auge', 'Makówki', 'Muskazine', 'Marzipan', 'Magenbrot', 'Nussecke (page does not exist)', 'Pfeffernüsse', 'Prinzregententorte', 'Rote Grütze', 'Rumtopf', 'Schneeball (pastry)', 'Schokokuss', 'Spaghettieis', 'Spekulatius', 'Springerle', 'Spritzgebäck', 'Spritzkuchen', 'Stollen', 'Streusel', 'Streuselkuchen', 'Tollatsch', 'Vanillekipferl', 'Welfenspeise', 'Wibele', 'Windbeutel', 'Zwetschgenkuchen']\n"
     ]
    }
   ],
   "source": [
    "# deutsche desserts\n",
    "url_deutschedesserts = r'https://en.wikipedia.org/wiki/List_of_German_desserts'\n",
    "germanpastrylist = grab_list(url_deutschedesserts, 'Zwetschgenkuchen')\n",
    "print(germanpastrylist)"
   ]
  },
  {
   "cell_type": "code",
   "execution_count": 18,
   "id": "baa5c403-3531-44dc-a050-e092c7b11a59",
   "metadata": {},
   "outputs": [
    {
     "name": "stdout",
     "output_type": "stream",
     "text": [
      "['Aarts (food)', 'Acidophiline', 'Amasi', 'Ayran', 'Basundi', 'Bhuna khoya', 'Blaand', 'Black Kashk', 'Booza', 'Borhani', 'Buffalo curd', 'Bulgarian yogurt', 'Butter', 'Butterfat', 'Buttermilk', 'Buttermilk koldskål', 'Buttermilk', 'Cacık', 'Camel milk', 'Casein', 'Caudle', 'Chaas', 'Chal', 'Chalap', 'Chass', 'Cheese', 'Chocolate butter', 'Clabber (food)', 'Clotted cream', 'Condensed milk', 'Cottage cheese', 'Cream', 'Cream cheese', 'Crème anglaise', 'Crème fraîche', 'Cuajada', 'Curd', 'Curd snack', 'Custard', 'Dadiah', 'Daigo (dairy product)', 'Dondurma', \"Donkey's milk\", 'Dulce de Leche', 'Doogh', 'Evaporated milk', 'Eggnog', 'Filled milk', 'Filmjölk', 'Fromage frais', 'Fermented milk products', 'Frozen custard', 'Frozen yogurt', 'Gelato', 'Ghee', \"Goat's milk\", 'Gombe (dish)', 'Gomme (food)', 'Horse', 'Ice cream', 'Ice milk', 'Infant formula', 'Junket (dessert)', 'Junnu', 'Kalvdans', 'Kashk', 'Kaymak', 'Kefir', 'Khoa', 'Kulfi', 'Kumis', 'Lassi', 'Leben (milk product)', 'Malai', 'Malaiyo', 'Matzoon (yogurt)', 'Milk', 'Milk skin', 'Míša', 'Mitha Dahi', 'Mozzarella', 'Moose milk', 'Mursik', 'Paneer', 'Podmleč', 'Pomazánkové máslo', 'Powdered milk', 'Processed cheese', 'Pytia', 'Qatiq', 'Qimiq', 'Quark (dairy product)', 'Reindeer husbandry', 'Ryazhenka', 'Ricotta', 'Sarasson', 'Semifreddo', 'Sergem', 'Sheep milk', 'Shrikhand', 'Skorup', 'Skyr', 'Smen', 'Smetana (dairy product)', 'Snow cream', 'So (dairy product)', 'Soft serve', 'Sour cream', 'Soured milk', 'Spaghettieis', 'Strained yogurt', 'Súrmjólk', 'Sütlaç', 'Tarhana', 'Tuttis', 'Uunijuusto', 'Vaccenic acid', 'Varenets', 'Viili', 'Vla', 'Whey', 'Whey protein', 'Whipped cream', 'Yak butter', 'Pack yak', 'Yakult', 'Yayık ayranı', 'Ymer (dairy product)', 'Yogurt']\n"
     ]
    }
   ],
   "source": [
    "# Milchprodukte\n",
    "url_dairy = r'https://en.wikipedia.org/wiki/List_of_dairy_products'\n",
    "dairyproductlist = grab_list(url_dairy, 'Yogurt')    \n",
    "print(dairyproductlist)"
   ]
  },
  {
   "cell_type": "code",
   "execution_count": 19,
   "id": "95714b67-efb2-44be-a4cb-9c76c7418289",
   "metadata": {},
   "outputs": [
    {
     "name": "stdout",
     "output_type": "stream",
     "text": [
      "['Wagasi', 'Ethiopian cuisine', 'Caravane cheese', 'Chechil', 'Chhanabora', 'Byaslag', 'Chura kampo', 'Chura loenpa', 'Nguri', 'Rubing', 'Rushan cheese', 'Bandel cheese', 'Paneer', 'Chhena', 'Dahi Chhena', 'Kalari cheese', 'Kalimpong cheese', 'Dangke', 'Sakura cheese', 'Imsil', 'Byaslag', 'Flower of Rajya', 'Chhurpi', 'Kesong puti', 'Sirene', 'Kashkaval', 'Quark (dairy product)', 'Bergkäse', 'Lüneberg cheese', 'Sura Kees', 'Mondseer', 'Tyrolean grey cheese', 'Brussels cheese', 'Chimay Brewery', 'Herve cheese', 'Le Wavreumont', 'Limburger cheese', 'Maredsous cheese', 'Passendale cheese', 'Remoudou', 'Livno cheese', 'Herzegovina \"squeaking\" cheese', 'Trappista cheese', 'Vlašić cheese', 'Bosnian Smoked Cheese (Suhi Sir)', 'Cherni Vit (cheese)', 'Kashkaval', 'Sirene', 'Paški sir', 'Škripavac', 'Tounjski sir', 'Prgica', 'Dimsi', 'Akkawi', 'Anari cheese', 'Halloumi', 'Kefalotyri', 'Abertam cheese', 'Blaťácké zlato', 'Olomoucké syrečky', 'Hermelín', 'Danbo', 'Danish Blue', 'Esrom', 'Fynbo', 'Havarti', 'Maribo cheese', 'Molbo cheese', 'Saga (cheese)', 'Samsø cheese', 'Tybo', 'Vesterhavsost', 'Atleet', 'Eesti Juust', 'Kadaka juust', 'Aura cheese', 'Lappi cheese', 'Leipäjuusto', 'Oltermanni', 'Raejuusto', 'Sulguni', 'Anthotyros', 'Chloro (cheese)', 'Feta', 'Graviera', 'Kasseri', 'Kefalograviera', 'Kefalotyri', 'Kopanisti', 'Manouri', 'Metsovone', 'Myzithra', 'Tyrozouli', 'Xynomizithra', 'Xynotyro', 'Protected designation of origin', 'Liptauer', 'Orda (cheese)', 'Pálpusztai', 'Trappista cheese', 'Oázis', 'Balaton cheese', 'Karaván', 'Pannónia', 'Höfðingi', 'Šar cheese', 'Fried Camembert cheese', 'Jāņi cheese', 'Latvian cheese', 'Ġbejna', 'Cașcaval', 'Urdă', 'Brânză', 'Brânză de vaci (cow cheese)', 'Kolašinski sir', 'Pljevaljski sir', 'Podgorički sir', 'Nikšićki kozji sir', 'Njeguški sir', 'Kashkaval', 'Urdă', 'Belo Sirenje', 'Brunost', 'Gamalost', 'Geitost', 'Heidal cheese', 'Jarlsberg cheese', 'Nøkkelost', 'Norvegia', 'Pultost', 'Snøfrisk', 'Castelo Branco cheese', 'Queijo de Nisa', 'Queijo do Pico', 'Queijo de Azeitão', 'São Jorge cheese', 'Serra da Estrela cheese', 'Requeijão', 'Saloio', 'Santarém cheese', 'Brânzǎ de burduf', 'ro:Brânză de Suhaia', 'Brânză de vaci', 'Caș', 'Cașcaval', 'Năsal cheese', 'Telemea', 'Urdă', 'Bryndza', 'Circassian cheese', 'Korall', 'Quark (cheese)', 'Caciocavallo', 'Pule cheese', 'Bryndza', 'Liptauer', 'Ovčia hrudka', 'Kravská hrudka', 'Korbáčiky', 'Oštiepok', 'Parenica', 'Urda cheese', 'Quark (cheese)', 'Brie', 'Camembert', 'Mohant', 'Tolminc cheese', 'Ädelost', 'Blå Gotland', 'Grevé', 'Gräddost', 'Herrgårdsost', 'Hushållsost', 'Moose cheese', 'Prästost', 'Svecia', 'Västerbottensost', 'Bilozhar', 'Bukovinskyi', 'Bryndza', 'Dobrodar', 'Smetankowyi', 'Quark (cheese)', 'Ukraїnskyi', 'Vurda', 'Banbury cheese', 'Cheddar cheese', 'Stilton cheese', 'Stinking Bishop cheese', 'Areesh cheese', 'Baramily', 'Domiati', 'Halumi', 'Istanboly', 'Mish', 'Rumi cheese', 'Lighvan cheese', 'Tzfat cheese', 'Tzfat cheese', 'Labneh', 'Kashkaval', 'Qishta', 'Halloumi', 'Akkawi', 'Areesh cheese', 'Baladi cheese', 'Basket cheese', 'Jameed', 'Jibneh Arabieh', 'Kashkaval', 'Qishta', 'Labneh', 'Syrian cheese', 'Nabulsi cheese', 'Surke', 'Syrian cheese', 'Antep peyniri', 'Armola peyniri', 'Beyaz peynir', 'Chechil', 'Çökelek', 'Çömlek cheese', 'String cheese', 'Ezine peyniri', 'Füme çerkes peyniri', 'Halloumi', 'Kars gravyer cheese', 'Kaşar', 'Kopanisti peyniri', 'Curd', 'Mihaliç Peyniri', 'Strained yogurt', 'Telli peynir', 'Tulum (cheese)', 'Van otlu peyniri', 'Bleu Bénédictin', 'Cheddar cheese', 'Cheese curds', 'Oka cheese', 'Pikauba (cheese)', 'Turrialba cheese', 'Cuajada', 'Crema (cheese)', 'Crema (cheese)', 'Cuajada', 'Quesillo', 'Queijo seco', 'Adobera cheese', 'Añejo cheese', 'Asadero cheese', 'Chiapas cheese', 'Cotija cheese', 'Criollo cheese', 'Lingallin (cheese)', 'Oaxaca cheese', 'Crema Mexicana', 'Chihuahua cheese', 'Queso de cuajo', 'Queso Fresco', 'Queso Panela', 'Quesillo', 'Bergenost', 'Brick cheese', 'Cheese curds', 'Colby cheese', 'Colby-Jack cheese', 'Colorado Blackie', 'Cream cheese', 'Creole cream cheese', 'Cup Cheese', 'Farmer cheese', 'Hoop cheese', 'Humboldt Fog', 'Liederkranz cheese', 'Monterey Jack', 'Muenster cheese', 'Nacho cheese', 'Pepper jack cheese', 'Pinconning cheese', 'Provel cheese', 'Red Hawk cheese', 'String cheese', 'Teleme cheese', 'Cremoso cheese', 'Criollo cheese (Argentina)', 'Goya cheese', 'Reggianito', 'Sardo cheese', 'Chubut cheese', 'Tandil cheese', 'Mar del Plata cheese', 'Chaqueño', 'Menonita (cheese)', 'Catupiry', 'Minas cheese', 'Queijo coalho', 'Colony cheese', 'Queijo Meia Cura', 'Canastra cheese', 'Queijo Cobocó', 'Queijo-do-Reino', 'Queijo do Serro', 'Queijo Manteiga', 'Queijo prato', 'Requeijão', 'Chanco cheese', 'Panquehue (cheese)', 'Renaico (cheese)', 'Queso Campesino', 'Queso costeño', 'Cuajada', 'Queso Paipa', 'Queso Pera', 'Quesillo', 'Guayanés cheese', 'Queso crineja', 'Queso de mano', 'Queso Llanero', 'Queso Palmita', 'Queso Parma de Barinitas', 'Queso telita', 'Cottage cheese', 'Farmer cheese', 'Port wine cheese', 'Smoked cheese', 'Soy cheese', 'Rice cheese']\n"
     ]
    }
   ],
   "source": [
    "# Cheeses\n",
    "url_cheese = r'https://en.wikipedia.org/wiki/List_of_cheeses'\n",
    "cheeselist = grab_list(url_cheese, 'Rice cheese')\n",
    "print(cheeselist)"
   ]
  },
  {
   "cell_type": "code",
   "execution_count": 22,
   "id": "139bc6c1-b593-4463-96c3-5e4cd325c7ec",
   "metadata": {},
   "outputs": [
    {
     "name": "stdout",
     "output_type": "stream",
     "text": [
      "['Malus pumila', 'Pseudocydonia sinensis', 'Aronia melanocarpa', 'Planchonia careya', 'Crataegus aestivalis', 'Crataegus rhipidophylla', 'Genipa americana', 'Eriobotrya japonica', 'Flacourtia inermis', 'Mespilus germanica', 'Malus niedzwetzkyana', 'Pyrus communis', 'Cydonia oblonga', 'Flacourtia indica', 'Sorbus aucuparia', 'Manilkara zapota', 'Amelanchier alnifolia', 'Pyracantha coccinea', 'Shipova', 'Sorbus domestica', 'Malus angustifolia', 'Heteromeles arbutifolia', 'Euterpe oleracea', 'Malpighia emarginata', 'Irvingia gabonensis', 'Garcinia livingstonei', 'Elaeis guineensis', 'Cornus × unalaschkensis', 'Pourouma cecropiifolia', 'Spondias dulcis', 'Elaeis oleifera', 'Prunus americana', 'Prunus armeniaca', 'Mangifera pajang', 'Prunus maritima', 'Antidesma bunius', 'Mangifera caesia', 'Prunus serotina', 'Euclea crispa', 'Parajubaea torallyi', 'Syzygium australe', 'Pleiogynium timoriense', 'Dacryodes edulis', 'Calamus erectus', 'Calligonum junceum', 'Cornus canadensis', 'Casimiroa edulis', 'Eugenia reinwardtiana', 'Byrsonima crassifolia', 'Prunus avium', 'Elaeagnus multiflora', 'Eugenia involucrata', 'Ziziphus mauritiana', 'Prunus virginiana', 'Cassytha melantha', 'Chrysobalanus icaco', 'Cocos nucifera', 'Cornus mas', 'Terminalia catappa', 'Prunus rivularis', 'Empetrum nigrum', 'Murraya koenigii', 'Prunus domestica subsp. insititia', 'Phoenix dactylifera', 'Santalum acuminatum', 'Phyllanthus emblica', 'Owenia acidula', 'Litsea garciae', 'Syzygium fibrosum', 'Prunus umbellata', 'Gomortega keule', 'Greengage', 'Buchanania obovata', 'Myrciaria floribunda', 'Terminalia ferdinandiana', 'Celtis occidentalis', 'Nephelium xerospermoides', 'Syzygium cumini', 'Elaeagnus umbellata', 'Butia capitata', 'Spondias purpurea', 'Ziziphus jujuba', 'Prunus salicina spp.', 'King coconut', 'Nephelium hypoleucum', 'Acronychia acidula', 'Buchanania arborescens', 'Dimocarpus longan', 'Litchi chinensis', 'Syzygium malaccense', 'Pouteria sapota', 'Mangifera indica', 'Bouea macrophylla', 'Sclerocarya birrea', 'Synsepalum dulcificum', 'Mauritia flexuosa', 'Kunzea pomifera', 'Viburnum lentago', 'Peach', 'Azadirachta indica', 'Choerospondias axillaris', 'Myristica fragrans', 'Phyllanthus acidus', 'Prunus persica', 'Bunchosia glandulifera', 'Caryocar brasiliense', 'Grewia asiatica', 'Coccoloba diversifolia', 'Canarium ovatum', 'Eugenia uniflora', 'Prunus domestica', 'Nephelium mutabile', 'Nephelium lappaceum', 'Syzygium suborbiculare', 'Syzygium luehmannii', 'Sageretia theezans', 'Sansapote', 'Savannah cherry', 'Serenoa repens', 'Lodoicea maldivica', 'Coccoloba uvifera', 'Ardisia elliptica', 'Shepherdia argentea', 'Prunus spinosa', 'Mimusops elengi', 'Melicoccus bijugatus', 'Dialium indum', 'Dialium cochinchinense', 'Dialium guineense', 'Syzygium aqueum', 'Syzygium samarangense', 'Acronychia oblongifolia', 'Terminalia carpentariae', 'Manilkara kauki', 'Myrica rubra', 'Spondias mombin', 'Ximenia americana', 'Zwetschge', 'Pouteria caimito', 'Sambucus canadensis', 'Diospyros virginiana', 'Sambucus pubens', 'Billardiera scandens', 'Coffea arabica', 'Eugenia stipitata', 'Vasconcellea × heilbornii', 'Musa acuminata', 'Berberis vulgaris', 'Arctostaphylos uva-ursi', 'Carissa carandas', 'Vaccinium myrtillus', 'Myrtillocactus geometrizans', 'Ribes nigrum', 'Diospyros nigra', 'Vaccinium corymbosum', 'Eupomatia laurina', 'Eugenia brasiliensis', 'Psidium guineense', 'Stelechocarpus burahol', 'Chrysophyllum cainito', 'Muntingia calabura', 'Myrciaria dubia', 'Pouteria campechiana', 'Physalis peruviana', 'Pachycereus pringlei', 'Psidium cattleyanum', 'Dovyalis hebecarpa', 'Ugni molinae', 'Carissa spinarum', 'Psidium friedrichsthalianum', 'Vaccinium macrocarpon', 'Berberis darwinii', 'Diospyros lotus', 'Davidsonia jerseyana', 'Hylocereus undatus', 'Sambucus nigra', 'Feijoa sellowiana', 'Vitis labrusca', 'Passiflora quadrangularis', 'Glenniea philippinensis', 'Actinidia chinensis', 'Ribes uva-crispa', 'Vitis vinifera', 'Psidium guajava', 'Actinidia arguta', 'Lonicera caerulea', 'Lonicera periclymenum', 'Vaccinium ovatum', 'Plinia cauliflora', 'Dovyalis caffra', 'Actinidia deliciosa', 'Lansium parasiticum', 'Vaccinium vitis-idaea', 'Pouteria lucuma', 'Syzygium jambos', 'Mammea americana', 'Hancornia speciosa', 'Aristotelia chilensis', 'Podophyllum peltatum', 'Passiflora incarnata', 'Austromyrtus dulcis', 'Vaccinium floribundum', 'Vitis rotundifolia', 'Solanum quitoense', 'Acrotriche depressa', 'Davidsonia pruriens', 'Mahonia aquifolium', 'Carica papaya', 'Passiflora alata', 'Passiflora platyloba', 'Passiflora edulis', 'Pentadiplandra brazzeana', 'Solanum muricatum', 'Diospyros kaki', 'Cereus repandus', 'Eugenia luschnathiana', 'Punica granatum', 'Opuntia ficus-indica', 'Billardiera longiflora', 'Psidium rufum', 'Ribes rubrum', 'Vaccinium parvifolium', 'Flacourtia rukam', 'Carnegiea gigantea', 'Gaultheria shallon', 'Hippophae rhamnoides', 'Small-leaved fuchsia', 'Archirhodomyrtus beckleri', 'Davidsonia johnsonii', 'Quararibea cordata', 'Averrhoa carambola', 'Arbutus unedo', 'Billardiera cymosa', 'Passiflora ligularis', 'Solanum betaceum', 'Diospyros texana', 'Diospyros blancoi', 'Clausena lansium', 'Capparis mitchellii', 'Lycium barbarum', 'Passiflora edulis f flavicarpa', 'Aegle marmelos', 'Bailan melon', 'Banana melon', 'Canary melon', 'Cucumis prophetarum', 'Sicana odorifera', 'Crane melon', 'Crenshaw melon', 'Borassus flabellifer', 'Cantaloupe', 'Gaya melon', 'Honeydew melon', 'Cucumis metuliferus', 'Hydnora abyssinica', 'Crescentia cujete', 'Kajari melon', 'Kolkhoznitsa melon', 'Cucumis melo var. makuwa', 'Mirza melon', 'Cucumis melo', 'Strychnos spinosa', 'Cantaloupe', 'Santa Claus melon', 'Sprite melon', 'Tigger melon', 'Citrullus lanatus', 'Limonia acidissima', 'Citropsis articulata', 'Citrus × natsudaidai', 'Citrus medica ssp. bajoura', 'Citrus bergamia', 'Citrus × aurantium', 'Blood lime', 'Blood orange', 'Citrus medica var. sarcodactylus', '× Citrofortunella microcarpa', 'Cam sành', 'Kumquat', 'Citrus medica', 'Citrus × clementina', 'Citrus glauca', 'Etrog', 'Citrus australasica', 'Citrus × limonimedica', 'Citrus × paradisi', 'Haruka (citrus)', 'Hyuganatsu', 'Citrus cavaleriei', 'Citrus × iyo', 'Kumquat', 'Citrus × sphaerocarpa', 'Citrus hystrix', 'Kanpei', 'Kawachi Bankan', 'Citrus ×aurantiifolia', 'Kinkoji unshiu', 'Kinnow', 'Kiyomi', 'Kobayashi mikan', 'Koji orange', 'Kuchinotsu No.37', 'Citrus japonica', 'Citrus limon', 'Citrus × latifolia', 'Triphasia trifolia', 'Limequat', 'Citrus reticulata', 'Citrus mangshanensis', 'Melogold', 'Citrus × meyeri', 'Citrus myrtifolia', 'Ōgonkan', 'Orange (fruit)', 'Oroblanco', 'Kumquat', 'Citrus maxima', 'Pompia', 'Ponderosa lemon', 'Citrus × limonia', 'Citrus australis', 'Citrus unshiu', 'Shangjuan', 'Shonan gold', 'Citrus sudachi', 'Citrus limetta', 'Citrus × depressa', 'Citrus × tangelo', 'Citrus tangerina', 'Citrus reticulata x sinensis', 'Ugli fruit', 'Volkamer lemon', 'Citrus junos', 'Annona senegalensis', 'Rubus strigosus', 'Annona conica', 'Atemoya', 'Rubus probus', 'Rollinia deliciosa', 'Morus nigra', 'Rubus allegheniensis', 'Boysenberry', 'Annona scleroderma', 'Annona cherimola', 'Rubus chamaemorus', 'Rubus hayata-koidzumii', 'Maclura tricuspidata', 'Annona reticulata', 'Rubus flagellaris', 'Dillenia indica', 'Grewia retusifolia', 'Annona diversifolia', 'Rubus parvifolius', 'Rubus × loganobaccus', 'Annona crassiflora', 'Potentilla indica', 'Rubus moluccanus', 'Rubus adenotrichos', 'Rubus glaucus', 'Annona montana', 'Annona glabra', 'Morus rubra', 'Rosa rugosa', 'Rubus rosifolius', 'Rubus spectabilis', 'Annona purpurea', 'Annona muricata', 'Fragaria × ananassa', 'Annona squamosa', 'Tayberry', 'Rubus parviflorus', 'Rubus leucodermis', 'Morus alba', 'Fragaria vesca', 'Rubus phoenicolasius', 'Youngberry', 'Artocarpus altilis', 'Artocarpus camansi', 'Artocarpus integer', 'Ficus racemosa', 'Ficus platypoda', 'Duguetia confinis', 'Duguetia spixiana', 'Ficus carrii', 'Ficus carica', 'Pandanus tectorius', 'Artocarpus heterophyllus', 'Artocarpus parvus', 'Artocarpus lacucha', 'Artocarpus rigidus', 'Monstera deliciosa', 'Morinda citrifolia', 'Ananas comosus', 'Pandanus conoideus', 'Ficus coronata', 'Ficus aurea', 'Ficus sycomorus', 'Artocarpus odoratissimus', 'Ficus virens', 'Artocarpus hirsutus', 'Garcinia humilis', 'Blighia sapida', 'Aglaia teysmanniana', 'Garcinia atroviridis', 'Eleiodoxa conferta', 'Platonia insignis', 'Bemange', 'Pouteria australis', 'Melastoma affine', 'Boquila trifoliolata', 'Baccaurea ramiflora', 'Garcinia prainiana', 'Theobroma cacao', 'Garcinia madruno', 'Gaultheria hispida', 'Hymenaea courbaril', 'Theobroma grandiflorum', 'Durio zibethinus', 'Gaultheria procumbens', 'Momordica cochinchinensis', 'Garcinia morella', 'Garcinia gummi-gutta', 'Garcinia forbesii', 'Garcinia magnifolia', 'Garcinia pseudoguttifera', 'Pangium edule', 'Garcinia indica', 'Cola nitida', 'Garcinia parvifolia', 'Lardizabala biternata', 'Siraitia grosvenorii', 'Garcinia mangostana', 'Baccaurea racemosa', 'Garcinia dulcis', 'Asimina triloba', 'Red salak', 'Salacca zalacca', 'Sandoricum koetjape', 'Diploglottis campbellii', 'Vangueria madagascariensis', 'Trichosanthes beccariana', 'Vanilla planifolia', 'Yantok']\n"
     ]
    }
   ],
   "source": [
    "url_fruit = r'https://en.wikipedia.org/wiki/List_of_culinary_fruits'\n",
    "fruits = grab_list(url_fruit, 'Yantok')\n",
    "print(fruits)"
   ]
  },
  {
   "cell_type": "code",
   "execution_count": 23,
   "id": "18498e14-d550-4912-9bd7-f9398c8d42b4",
   "metadata": {},
   "outputs": [
    {
     "name": "stdout",
     "output_type": "stream",
     "text": [
      "['Amaranth', 'Xanthosoma sagittifolium', 'Centella asiatica', 'Arugula', 'Rubus pectinellus', 'Beet', 'Christella dentata', 'Chinese cabbage', 'Borage', 'Broccoli', 'Brooklime', 'Brussels sprout', 'Cabbage', 'Caraway', 'Hypochaeris radicata', 'Celery', 'Celtuce', 'Chaya (plant)', 'Chili pepper', 'Stellaria', 'Chicory', 'Chinese mallow', 'Collard greens', 'Common purslane', 'Corn salad', 'Garden cress', 'Cucumis prophetarum', 'Garland Chrysanthemum', 'Aegopodium podagraria', 'Dandelion', 'Dill', 'Endive', 'Chenopodium album', 'Fiddlehead', 'Telfairia occidentalis', 'Gnetum gnemon', 'Golden samphire', 'Good King Henry', 'Grape', 'Plantago major', 'Corchorus olitorius', 'Kai-lan', 'Kale', 'Kalette', 'Pringlea', 'Komatsuna', 'Adansonia', 'Talinum fruticosum', 'Corn salad', \"Lamb's quarters\", 'Land cress', 'Leaf celery', 'Lettuce', 'Houttuynia cordata', 'Basella alba', 'Malvaceae', 'Moringa oleifera', \"Miner's lettuce\", 'Mizuna greens', 'Sinapis alba', 'Napa cabbage', 'Tetragonia', 'Atriplex', 'Chinese cabbage', 'Papaya', 'Paracress', 'Pea', 'Cycas riuminiana', 'Phytolacca americana', 'Bauhinia purpurea', 'Radicchio', 'Rapini', 'Amaranthus dubius', 'Rock samphire', 'Osmunda regalis', 'Sculpit', 'Sea beet', 'Sea kale', 'Capsella bursa-pastoris', 'Crassocephalum', 'Celosia argentea', 'Sorrel', 'Sour cabbage', 'Spinach', 'Amaranthus spinosus', 'Portulaca oleracea', 'Abelmoschus manihot', 'Sweet potato', 'Chard', 'Xanthosoma brasiliense', 'Taro', 'Tatsoi', 'Turnip', 'Diplazium esculentum', 'Sesbania grandiflora', 'Viagra palm', 'Watercress', 'Ipomoea aquatica', 'Wheatgrass', 'Achillea millefolium', 'Rapeseed', 'Artocarpus blancoi', 'Armenian cucumber', 'Breadfruit', 'Artocarpus camansi', 'Momordica charantia', 'Cyclanthera pedata', 'Calabash', 'Chayote', 'Cooking banana', 'Durian', 'Gac', 'Anacolosa frutescens', 'Melothria scabra', 'Cucumber', 'Cucumis prophetarum', 'Eggplant', 'Coccinia grandis', 'Jackfruit', 'Cucumis metuliferus', 'Telosma procumbens', 'Luffa', 'Artocarpus mariannensis', 'Olive', 'Papaya', 'Pumpkin', 'Trichosanthes dioica', 'Luffa acutangula', 'Trichosanthes cucumerina', 'Momordica dioica', 'Squash (plant)', 'Tinda', 'Artocarpus treculianus', 'Tomatillo', 'Tomato', 'Vanilla', 'Cucumis anguria', 'Water melon', 'Winter melon', 'Zucchini', 'Bell pepper', 'Big Jim pepper', 'Cayenne pepper', 'Friggitello', 'Habanero', 'Hungarian wax pepper', 'Jalapeño', 'New Mexico chile', 'Peperoncino', 'Pimiento', 'Sandia pepper', 'Siling haba', 'Artichoke', 'Banana flower', 'Clitoria ternatea', 'Broccoli', 'Broccolini', 'Calabaza', 'Caper', 'Cauliflower', 'Telosma procumbens', 'Broussonetia luzonica', 'Pumpkin', 'Bauhinia purpurea', 'Daylily', 'Strongylodon macrobotrys', 'Loroco', 'Sesbania grandiflora', 'Zucchini', 'Zucchini', 'Apios americana', 'Asparagus bean', 'Azuki bean', 'Black-eyed pea', 'Clitoria ternatea', 'Chickpea', 'Common bean', 'Drumstick (vegetable)', 'Hyacinth Bean', 'Vicia faba', 'Chickpea', 'Green bean', 'Guar', 'Horse gram', 'Lablab purpureus', 'Lathyrus sativus', 'Lentil', 'Phaseolus lunatus', 'Moth bean', 'Mung bean', 'Okra', 'Pea', 'Peanut', 'Pigeon pea', 'Ricebean', 'Runner bean', 'Snap pea', 'Snow pea', 'Soybean', 'Lupinus mutabilis', 'Tepary bean', 'Urad (bean)', 'Mucuna pruriens', 'Winged bean', 'Asparagus', 'Banana pith', 'Cardoon', 'Celeriac', 'Celery', 'Chives', 'Elephant garlic', 'Fennel', 'Garlic', 'Allium tuberosum', 'Heart of palm', 'Kohlrabi', 'Kurrat', 'Landang', 'Lemongrass', 'Leek', 'Nelumbo nucifera', 'Nopal', 'Onion', 'Pearl onion', 'Potato onion', 'Ornithogalum pyrenaicum', 'Sago', 'Scallion', 'Salicornia', 'Shallot', 'Tree onion', 'Welsh onion', 'Allium tricoccum', 'Zizania latifolia', 'Pachyrhizus', 'Arracacha', 'Arrowleaf elephant ear', 'Bamboo shoot', 'Beet', 'Burdock', 'Broadleaf arrowhead', 'Camassia', 'Canna (plant)', 'Carrot', 'Zingiber cassumunar', 'Cassava', 'Chinese artichoke', 'Chinese ginger', 'Daikon', 'Lathyrus tuberosus', 'Amorphophallus paeoniifolius', 'Ensete', 'Giant swamp taro', 'Giant taro', 'Ginger', 'Parsley', 'Horseradish', 'Jerusalem artichoke', 'Jícama', 'Kaempferia galanga', 'Lengkuas', 'Alpinia officinarum', 'Mashua', 'Palmyra sprout', 'Parsnip', 'Conopodium majus', 'Tacca leontopetaloides', 'Potato', 'Psoralea esculenta', 'Radish', 'Rutabaga', 'Purple Salsify', 'Black salsify', 'Skirret', 'Rutabaga', 'Sweet potato', 'Taro', 'Ti (plant)', 'Cyperus esculentus', 'Turmeric', 'Turnip', 'Dioscorea alata', 'Ulluco', 'Wasabi', 'Water caltrop', 'Eleocharis dulcis', 'Yacón', 'Yam (vegetable)', 'Xanthosoma caracu', 'Aonori', 'Arame', 'Carola (sea vegetable)', 'Alaria esculenta', 'Palmaria palmata', 'Zostera', 'Gusô', 'Hijiki', 'Kombu', 'Laver (seaweed)', 'Mozuku', 'Nori', 'Ogonori', 'Caulerpa lentillifera', 'Sea lettuce', 'Wakame']\n"
     ]
    }
   ],
   "source": [
    "url_vegetables = r'https://en.wikipedia.org/wiki/List_of_vegetables'\n",
    "vegetables = grab_list(url_vegetables, 'Wakame')\n",
    "print(vegetables)"
   ]
  },
  {
   "cell_type": "code",
   "execution_count": 31,
   "id": "3146e6c2-d2ac-4532-9a2a-7facb4f05a5e",
   "metadata": {},
   "outputs": [
    {
     "name": "stdout",
     "output_type": "stream",
     "text": [
      "['Anchovies', 'Barracuda', 'Basa fish', 'Bass (fish)', 'Anoplopoma fimbria', 'Pufferfish', 'Bluefish', 'Bombay duck', 'Bream', 'Brill (fish)', 'Butter fish', 'Catfish', 'Cod', 'Squaliformes', 'Dorade', 'Eel', 'Flounder', 'Grouper', 'Haddock', 'Hake', 'Halibut', 'Herring', 'Ilish', 'John Dory', 'Lamprey', 'Lingcod', 'Mackerel', 'Mahi Mahi', 'Monkfish', 'Mullet (fish)', 'Orange roughy', 'Parrotfish', 'Patagonian toothfish', 'Perch', 'Pike (fish)', 'Pilchard', 'Pollock', 'Pomfret', 'Pompano', 'Sablefish', 'Salmon', 'Sanddab', 'Sardine', 'Bass (fish)', 'Shad', 'Shark', 'Skate (fish)', 'Smelt (fish)', 'Snakehead (fish)', 'Lutjanidae', 'Sole (fish)', 'Sprat', 'Sturgeon', 'Surimi', 'Swordfish', 'Tilapia', 'Tilefish', 'Trout', 'Tuna', 'Turbot', 'Wahoo', 'Coregonus', 'Whiting (fish)', 'Witch (righteye flounder)', 'Purified Water', 'Caviar', 'Ikura', 'Kazunoko', 'Cyclopterus lumpus', 'Masago', 'Shad', 'Tobiko', 'Crab', 'Crayfish', 'Lobster', 'Shrimp', 'Cockle (bivalve)', 'Cuttlefish', 'Clam', 'Concholepas concholepas', 'Mussel', 'Octopus', 'Oyster', 'Common periwinkle', 'Scallop', 'Squid', 'Conch', 'Nautilus']\n"
     ]
    }
   ],
   "source": [
    "url_seafood = r'https://en.wikipedia.org/wiki/List_of_types_of_seafood'\n",
    "seafood = grab_list2(url_seafood, 'Nautilus')\n",
    "print(seafood)"
   ]
  },
  {
   "cell_type": "code",
   "execution_count": 30,
   "id": "158e92f4-a40e-4433-b0d7-ee51e03597ba",
   "metadata": {},
   "outputs": [
    {
     "name": "stdout",
     "output_type": "stream",
     "text": [
      "['Baik kut kyee kaik', 'Balchão', 'Bánh canh', 'Bisque (food)', 'Bún mắm', 'Bún riêu', 'Chowder', 'Cioppino', 'Crawfish pie', 'Curanto', 'Fideuà', 'Halabos', 'Hoe (dish)', 'Hoedeopbap', 'Kaeng som', 'Kedgeree', 'Maeuntang', 'Moules-frites', 'Namasu', 'New England clam bake', 'Paella', 'Paelya', 'Paila marina', 'Piaparan', 'Plateau de fruits de mer', 'Seafood basket', 'Seafood birdsnest', 'Seafood boil', 'Seafood cocktail', 'Seafood pizza', 'Stroganina', 'Sundubu jjigae', 'Surf and turf', 'Tinumok', 'Clam cake', 'Clam chowder', 'Clams casino', 'Clams oreganata', 'Fabes con almejas', 'Fried clams', 'Jaecheopguk', 'New England clam bake', 'Steamed clams', 'Stuffed clam', 'Crab puff', 'Fish heads', \"'Ota 'ika\", 'Ginataang sugpo', 'Bisque (food)', 'Lobster Newberg', 'Lobster roll', 'Lobster stew', 'Scampi', 'Miruhulee boava', 'Nakji-bokkeum', 'Nakji-yeonpo-tang', 'Polbo á feira', 'Pulpo a la campechana', 'Akashiyaki', 'San-nakji', 'Takoyaki', 'Takomeshi', 'Angels on horseback', 'Hangtown fry', 'Oyster omelette', 'Oyster sauce', 'Oyster vermicelli', 'Oysters Bienville', 'Oysters en brochette', 'Oysters Kirkpatrick', 'Oysters Rockefeller', 'Steak and oyster pie', 'Balao-balao', 'Biyaring', 'Bobó de camarão', 'Bún mắm', 'Camaron rebosado', 'Chakkoli', 'Chạo tôm', 'Coconut shrimp', 'Drunken shrimp', 'Ebi chili', 'Fried prawn', 'Ginataang hipon', 'Ginataang kalabasa', 'Halabos na hipon', 'Har gow', 'Nilasing na hipon', 'Okoy', 'Pininyahang hipon', 'Potted shrimps', 'Prawn cracker', 'Prawn cocktail', 'Shrimp ball', 'Shrimp DeJonghe', 'White boiled shrimp', 'Adobong pusit', 'Arròs negre', 'Dried shredded squid', 'Squid as food', 'Gising-gising', 'Ikameshi', 'Orange cuttlefish', 'Paella negra', 'Pancit choca', 'Squid cocktail', 'Cuttlefish']\n"
     ]
    }
   ],
   "source": [
    "url_seafood = r'https://en.wikipedia.org/wiki/List_of_seafood_dishes'\n",
    "seafood = grab_list2(url_seafood, 'Cuttlefish')\n",
    "print(seafood)"
   ]
  }
 ],
 "metadata": {
  "kernelspec": {
   "display_name": "Python 3",
   "language": "python",
   "name": "python3"
  },
  "language_info": {
   "codemirror_mode": {
    "name": "ipython",
    "version": 3
   },
   "file_extension": ".py",
   "mimetype": "text/x-python",
   "name": "python",
   "nbconvert_exporter": "python",
   "pygments_lexer": "ipython3",
   "version": "3.9.0"
  }
 },
 "nbformat": 4,
 "nbformat_minor": 5
}
